{
 "cells": [
  {
   "cell_type": "code",
   "execution_count": 1,
   "metadata": {},
   "outputs": [],
   "source": [
    "import numpy as np\n",
    "import matplotlib.pyplot as plt\n",
    "import pandas as pd"
   ]
  },
  {
   "cell_type": "code",
   "execution_count": 2,
   "metadata": {},
   "outputs": [
    {
     "name": "stdout",
     "output_type": "stream",
     "text": [
      "<class 'pandas.core.frame.DataFrame'>\n",
      "RangeIndex: 577 entries, 0 to 576\n",
      "Data columns (total 18 columns):\n",
      "id                 577 non-null int64\n",
      "season             577 non-null int64\n",
      "city               570 non-null object\n",
      "date               577 non-null object\n",
      "team1              577 non-null object\n",
      "team2              577 non-null object\n",
      "toss_winner        577 non-null object\n",
      "toss_decision      577 non-null object\n",
      "result             577 non-null object\n",
      "dl_applied         577 non-null int64\n",
      "winner             574 non-null object\n",
      "win_by_runs        577 non-null int64\n",
      "win_by_wickets     577 non-null int64\n",
      "player_of_match    574 non-null object\n",
      "venue              577 non-null object\n",
      "umpire1            577 non-null object\n",
      "umpire2            577 non-null object\n",
      "umpire3            0 non-null float64\n",
      "dtypes: float64(1), int64(5), object(12)\n",
      "memory usage: 54.1+ KB\n"
     ]
    }
   ],
   "source": [
    "train=pd.read_csv('matches.csv')\n",
    "train.info()"
   ]
  },
  {
   "cell_type": "code",
   "execution_count": 3,
   "metadata": {},
   "outputs": [
    {
     "data": {
      "text/plain": [
       "id                   int64\n",
       "season               int64\n",
       "city                object\n",
       "date                object\n",
       "team1               object\n",
       "team2               object\n",
       "toss_winner         object\n",
       "toss_decision       object\n",
       "result              object\n",
       "dl_applied           int64\n",
       "winner              object\n",
       "win_by_runs          int64\n",
       "win_by_wickets       int64\n",
       "player_of_match     object\n",
       "venue               object\n",
       "umpire1             object\n",
       "umpire2             object\n",
       "umpire3            float64\n",
       "dtype: object"
      ]
     },
     "execution_count": 3,
     "metadata": {},
     "output_type": "execute_result"
    }
   ],
   "source": [
    "train.dtypes"
   ]
  },
  {
   "cell_type": "code",
   "execution_count": 4,
   "metadata": {},
   "outputs": [
    {
     "data": {
      "text/html": [
       "<div>\n",
       "<style scoped>\n",
       "    .dataframe tbody tr th:only-of-type {\n",
       "        vertical-align: middle;\n",
       "    }\n",
       "\n",
       "    .dataframe tbody tr th {\n",
       "        vertical-align: top;\n",
       "    }\n",
       "\n",
       "    .dataframe thead th {\n",
       "        text-align: right;\n",
       "    }\n",
       "</style>\n",
       "<table border=\"1\" class=\"dataframe\">\n",
       "  <thead>\n",
       "    <tr style=\"text-align: right;\">\n",
       "      <th></th>\n",
       "      <th>id</th>\n",
       "      <th>season</th>\n",
       "      <th>dl_applied</th>\n",
       "      <th>win_by_runs</th>\n",
       "      <th>win_by_wickets</th>\n",
       "      <th>umpire3</th>\n",
       "    </tr>\n",
       "  </thead>\n",
       "  <tbody>\n",
       "    <tr>\n",
       "      <th>count</th>\n",
       "      <td>577.000000</td>\n",
       "      <td>577.000000</td>\n",
       "      <td>577.000000</td>\n",
       "      <td>577.000000</td>\n",
       "      <td>577.000000</td>\n",
       "      <td>0.0</td>\n",
       "    </tr>\n",
       "    <tr>\n",
       "      <th>mean</th>\n",
       "      <td>289.000000</td>\n",
       "      <td>2012.029463</td>\n",
       "      <td>0.025997</td>\n",
       "      <td>13.715771</td>\n",
       "      <td>3.363951</td>\n",
       "      <td>NaN</td>\n",
       "    </tr>\n",
       "    <tr>\n",
       "      <th>std</th>\n",
       "      <td>166.709828</td>\n",
       "      <td>2.486247</td>\n",
       "      <td>0.159263</td>\n",
       "      <td>23.619282</td>\n",
       "      <td>3.416049</td>\n",
       "      <td>NaN</td>\n",
       "    </tr>\n",
       "    <tr>\n",
       "      <th>min</th>\n",
       "      <td>1.000000</td>\n",
       "      <td>2008.000000</td>\n",
       "      <td>0.000000</td>\n",
       "      <td>0.000000</td>\n",
       "      <td>0.000000</td>\n",
       "      <td>NaN</td>\n",
       "    </tr>\n",
       "    <tr>\n",
       "      <th>25%</th>\n",
       "      <td>145.000000</td>\n",
       "      <td>2010.000000</td>\n",
       "      <td>0.000000</td>\n",
       "      <td>0.000000</td>\n",
       "      <td>0.000000</td>\n",
       "      <td>NaN</td>\n",
       "    </tr>\n",
       "    <tr>\n",
       "      <th>50%</th>\n",
       "      <td>289.000000</td>\n",
       "      <td>2012.000000</td>\n",
       "      <td>0.000000</td>\n",
       "      <td>0.000000</td>\n",
       "      <td>3.000000</td>\n",
       "      <td>NaN</td>\n",
       "    </tr>\n",
       "    <tr>\n",
       "      <th>75%</th>\n",
       "      <td>433.000000</td>\n",
       "      <td>2014.000000</td>\n",
       "      <td>0.000000</td>\n",
       "      <td>20.000000</td>\n",
       "      <td>6.000000</td>\n",
       "      <td>NaN</td>\n",
       "    </tr>\n",
       "    <tr>\n",
       "      <th>max</th>\n",
       "      <td>577.000000</td>\n",
       "      <td>2016.000000</td>\n",
       "      <td>1.000000</td>\n",
       "      <td>144.000000</td>\n",
       "      <td>10.000000</td>\n",
       "      <td>NaN</td>\n",
       "    </tr>\n",
       "  </tbody>\n",
       "</table>\n",
       "</div>"
      ],
      "text/plain": [
       "               id       season  dl_applied  win_by_runs  win_by_wickets  \\\n",
       "count  577.000000   577.000000  577.000000   577.000000      577.000000   \n",
       "mean   289.000000  2012.029463    0.025997    13.715771        3.363951   \n",
       "std    166.709828     2.486247    0.159263    23.619282        3.416049   \n",
       "min      1.000000  2008.000000    0.000000     0.000000        0.000000   \n",
       "25%    145.000000  2010.000000    0.000000     0.000000        0.000000   \n",
       "50%    289.000000  2012.000000    0.000000     0.000000        3.000000   \n",
       "75%    433.000000  2014.000000    0.000000    20.000000        6.000000   \n",
       "max    577.000000  2016.000000    1.000000   144.000000       10.000000   \n",
       "\n",
       "       umpire3  \n",
       "count      0.0  \n",
       "mean       NaN  \n",
       "std        NaN  \n",
       "min        NaN  \n",
       "25%        NaN  \n",
       "50%        NaN  \n",
       "75%        NaN  \n",
       "max        NaN  "
      ]
     },
     "execution_count": 4,
     "metadata": {},
     "output_type": "execute_result"
    }
   ],
   "source": [
    "train.describe()"
   ]
  },
  {
   "cell_type": "code",
   "execution_count": 5,
   "metadata": {},
   "outputs": [
    {
     "data": {
      "text/html": [
       "<div>\n",
       "<style scoped>\n",
       "    .dataframe tbody tr th:only-of-type {\n",
       "        vertical-align: middle;\n",
       "    }\n",
       "\n",
       "    .dataframe tbody tr th {\n",
       "        vertical-align: top;\n",
       "    }\n",
       "\n",
       "    .dataframe thead th {\n",
       "        text-align: right;\n",
       "    }\n",
       "</style>\n",
       "<table border=\"1\" class=\"dataframe\">\n",
       "  <thead>\n",
       "    <tr style=\"text-align: right;\">\n",
       "      <th></th>\n",
       "      <th>id</th>\n",
       "      <th>season</th>\n",
       "      <th>city</th>\n",
       "      <th>date</th>\n",
       "      <th>team1</th>\n",
       "      <th>team2</th>\n",
       "      <th>toss_winner</th>\n",
       "      <th>toss_decision</th>\n",
       "      <th>result</th>\n",
       "      <th>dl_applied</th>\n",
       "      <th>winner</th>\n",
       "      <th>win_by_runs</th>\n",
       "      <th>win_by_wickets</th>\n",
       "      <th>player_of_match</th>\n",
       "      <th>venue</th>\n",
       "      <th>umpire1</th>\n",
       "      <th>umpire2</th>\n",
       "      <th>umpire3</th>\n",
       "    </tr>\n",
       "  </thead>\n",
       "  <tbody>\n",
       "    <tr>\n",
       "      <th>241</th>\n",
       "      <td>242</td>\n",
       "      <td>2011</td>\n",
       "      <td>Delhi</td>\n",
       "      <td>2011-05-21</td>\n",
       "      <td>Delhi Daredevils</td>\n",
       "      <td>Pune Warriors</td>\n",
       "      <td>Delhi Daredevils</td>\n",
       "      <td>bat</td>\n",
       "      <td>no result</td>\n",
       "      <td>0</td>\n",
       "      <td>NaN</td>\n",
       "      <td>0</td>\n",
       "      <td>0</td>\n",
       "      <td>NaN</td>\n",
       "      <td>Feroz Shah Kotla</td>\n",
       "      <td>SS Hazare</td>\n",
       "      <td>RJ Tucker</td>\n",
       "      <td>NaN</td>\n",
       "    </tr>\n",
       "    <tr>\n",
       "      <th>486</th>\n",
       "      <td>487</td>\n",
       "      <td>2015</td>\n",
       "      <td>Bangalore</td>\n",
       "      <td>2015-04-29</td>\n",
       "      <td>Royal Challengers Bangalore</td>\n",
       "      <td>Rajasthan Royals</td>\n",
       "      <td>Rajasthan Royals</td>\n",
       "      <td>field</td>\n",
       "      <td>no result</td>\n",
       "      <td>0</td>\n",
       "      <td>NaN</td>\n",
       "      <td>0</td>\n",
       "      <td>0</td>\n",
       "      <td>NaN</td>\n",
       "      <td>M Chinnaswamy Stadium</td>\n",
       "      <td>JD Cloete</td>\n",
       "      <td>PG Pathak</td>\n",
       "      <td>NaN</td>\n",
       "    </tr>\n",
       "    <tr>\n",
       "      <th>511</th>\n",
       "      <td>512</td>\n",
       "      <td>2015</td>\n",
       "      <td>Bangalore</td>\n",
       "      <td>2015-05-17</td>\n",
       "      <td>Delhi Daredevils</td>\n",
       "      <td>Royal Challengers Bangalore</td>\n",
       "      <td>Royal Challengers Bangalore</td>\n",
       "      <td>field</td>\n",
       "      <td>no result</td>\n",
       "      <td>0</td>\n",
       "      <td>NaN</td>\n",
       "      <td>0</td>\n",
       "      <td>0</td>\n",
       "      <td>NaN</td>\n",
       "      <td>M Chinnaswamy Stadium</td>\n",
       "      <td>HDPK Dharmasena</td>\n",
       "      <td>K Srinivasan</td>\n",
       "      <td>NaN</td>\n",
       "    </tr>\n",
       "  </tbody>\n",
       "</table>\n",
       "</div>"
      ],
      "text/plain": [
       "      id  season       city        date                        team1  \\\n",
       "241  242    2011      Delhi  2011-05-21             Delhi Daredevils   \n",
       "486  487    2015  Bangalore  2015-04-29  Royal Challengers Bangalore   \n",
       "511  512    2015  Bangalore  2015-05-17             Delhi Daredevils   \n",
       "\n",
       "                           team2                  toss_winner toss_decision  \\\n",
       "241                Pune Warriors             Delhi Daredevils           bat   \n",
       "486             Rajasthan Royals             Rajasthan Royals         field   \n",
       "511  Royal Challengers Bangalore  Royal Challengers Bangalore         field   \n",
       "\n",
       "        result  dl_applied winner  win_by_runs  win_by_wickets  \\\n",
       "241  no result           0    NaN            0               0   \n",
       "486  no result           0    NaN            0               0   \n",
       "511  no result           0    NaN            0               0   \n",
       "\n",
       "    player_of_match                  venue          umpire1       umpire2  \\\n",
       "241             NaN       Feroz Shah Kotla        SS Hazare     RJ Tucker   \n",
       "486             NaN  M Chinnaswamy Stadium        JD Cloete     PG Pathak   \n",
       "511             NaN  M Chinnaswamy Stadium  HDPK Dharmasena  K Srinivasan   \n",
       "\n",
       "     umpire3  \n",
       "241      NaN  \n",
       "486      NaN  \n",
       "511      NaN  "
      ]
     },
     "execution_count": 5,
     "metadata": {},
     "output_type": "execute_result"
    }
   ],
   "source": [
    "train[pd.isnull(train['winner'])]"
   ]
  },
  {
   "cell_type": "code",
   "execution_count": 6,
   "metadata": {},
   "outputs": [],
   "source": [
    "train['winner'].fillna('Draw',inplace=True)"
   ]
  },
  {
   "cell_type": "code",
   "execution_count": 7,
   "metadata": {},
   "outputs": [
    {
     "data": {
      "text/html": [
       "<div>\n",
       "<style scoped>\n",
       "    .dataframe tbody tr th:only-of-type {\n",
       "        vertical-align: middle;\n",
       "    }\n",
       "\n",
       "    .dataframe tbody tr th {\n",
       "        vertical-align: top;\n",
       "    }\n",
       "\n",
       "    .dataframe thead th {\n",
       "        text-align: right;\n",
       "    }\n",
       "</style>\n",
       "<table border=\"1\" class=\"dataframe\">\n",
       "  <thead>\n",
       "    <tr style=\"text-align: right;\">\n",
       "      <th></th>\n",
       "      <th>id</th>\n",
       "      <th>season</th>\n",
       "      <th>city</th>\n",
       "      <th>date</th>\n",
       "      <th>team1</th>\n",
       "      <th>team2</th>\n",
       "      <th>toss_winner</th>\n",
       "      <th>toss_decision</th>\n",
       "      <th>result</th>\n",
       "      <th>dl_applied</th>\n",
       "      <th>winner</th>\n",
       "      <th>win_by_runs</th>\n",
       "      <th>win_by_wickets</th>\n",
       "      <th>player_of_match</th>\n",
       "      <th>venue</th>\n",
       "      <th>umpire1</th>\n",
       "      <th>umpire2</th>\n",
       "      <th>umpire3</th>\n",
       "    </tr>\n",
       "  </thead>\n",
       "  <tbody>\n",
       "    <tr>\n",
       "      <th>0</th>\n",
       "      <td>1</td>\n",
       "      <td>2008</td>\n",
       "      <td>Bangalore</td>\n",
       "      <td>2008-04-18</td>\n",
       "      <td>2</td>\n",
       "      <td>3</td>\n",
       "      <td>3</td>\n",
       "      <td>field</td>\n",
       "      <td>normal</td>\n",
       "      <td>0</td>\n",
       "      <td>2</td>\n",
       "      <td>140</td>\n",
       "      <td>0</td>\n",
       "      <td>BB McCullum</td>\n",
       "      <td>M Chinnaswamy Stadium</td>\n",
       "      <td>Asad Rauf</td>\n",
       "      <td>RE Koertzen</td>\n",
       "      <td>NaN</td>\n",
       "    </tr>\n",
       "    <tr>\n",
       "      <th>1</th>\n",
       "      <td>2</td>\n",
       "      <td>2008</td>\n",
       "      <td>Chandigarh</td>\n",
       "      <td>2008-04-19</td>\n",
       "      <td>5</td>\n",
       "      <td>9</td>\n",
       "      <td>5</td>\n",
       "      <td>bat</td>\n",
       "      <td>normal</td>\n",
       "      <td>0</td>\n",
       "      <td>5</td>\n",
       "      <td>33</td>\n",
       "      <td>0</td>\n",
       "      <td>MEK Hussey</td>\n",
       "      <td>Punjab Cricket Association Stadium, Mohali</td>\n",
       "      <td>MR Benson</td>\n",
       "      <td>SL Shastri</td>\n",
       "      <td>NaN</td>\n",
       "    </tr>\n",
       "  </tbody>\n",
       "</table>\n",
       "</div>"
      ],
      "text/plain": [
       "   id  season        city        date  team1  team2  toss_winner  \\\n",
       "0   1    2008   Bangalore  2008-04-18      2      3            3   \n",
       "1   2    2008  Chandigarh  2008-04-19      5      9            5   \n",
       "\n",
       "  toss_decision  result  dl_applied  winner  win_by_runs  win_by_wickets  \\\n",
       "0         field  normal           0       2          140               0   \n",
       "1           bat  normal           0       5           33               0   \n",
       "\n",
       "  player_of_match                                       venue    umpire1  \\\n",
       "0     BB McCullum                       M Chinnaswamy Stadium  Asad Rauf   \n",
       "1      MEK Hussey  Punjab Cricket Association Stadium, Mohali  MR Benson   \n",
       "\n",
       "       umpire2  umpire3  \n",
       "0  RE Koertzen      NaN  \n",
       "1   SL Shastri      NaN  "
      ]
     },
     "execution_count": 7,
     "metadata": {},
     "output_type": "execute_result"
    }
   ],
   "source": [
    "train.replace(['Mumbai Indians','Kolkata Knight Riders','Royal Challengers Bangalore','Deccan Chargers','Chennai Super Kings',\n",
    "                 'Rajasthan Royals','Delhi Daredevils','Gujarat Lions','Kings XI Punjab',\n",
    "                 'Sunrisers Hyderabad','Rising Pune Supergiants','Kochi Tuskers Kerala','Pune Warriors']\n",
    "                ,['MI','KKR','RCB','DC','CSK','RR','DD','GL','KXIP','SRH','RPS','KTK','PW'],inplace=True)\n",
    "\n",
    "encode = {'team1': {'MI':1,'KKR':2,'RCB':3,'DC':4,'CSK':5,'RR':6,'DD':7,'GL':8,'KXIP':9,'SRH':10,'RPS':11,'KTK':12,'PW':13},\n",
    "          'team2': {'MI':1,'KKR':2,'RCB':3,'DC':4,'CSK':5,'RR':6,'DD':7,'GL':8,'KXIP':9,'SRH':10,'RPS':11,'KTK':12,'PW':13},\n",
    "          'toss_winner': {'MI':1,'KKR':2,'RCB':3,'DC':4,'CSK':5,'RR':6,'DD':7,'GL':8,'KXIP':9,'SRH':10,'RPS':11,'KTK':12,'PW':13},\n",
    "          'winner': {'MI':1,'KKR':2,'RCB':3,'DC':4,'CSK':5,'RR':6,'DD':7,'GL':8,'KXIP':9,'SRH':10,'RPS':11,'KTK':12,'PW':13,'Draw':14}}\n",
    "train.replace(encode, inplace=True)\n",
    "train.head(2)"
   ]
  },
  {
   "cell_type": "code",
   "execution_count": 8,
   "metadata": {},
   "outputs": [
    {
     "data": {
      "text/html": [
       "<div>\n",
       "<style scoped>\n",
       "    .dataframe tbody tr th:only-of-type {\n",
       "        vertical-align: middle;\n",
       "    }\n",
       "\n",
       "    .dataframe tbody tr th {\n",
       "        vertical-align: top;\n",
       "    }\n",
       "\n",
       "    .dataframe thead th {\n",
       "        text-align: right;\n",
       "    }\n",
       "</style>\n",
       "<table border=\"1\" class=\"dataframe\">\n",
       "  <thead>\n",
       "    <tr style=\"text-align: right;\">\n",
       "      <th></th>\n",
       "      <th>id</th>\n",
       "      <th>season</th>\n",
       "      <th>city</th>\n",
       "      <th>date</th>\n",
       "      <th>team1</th>\n",
       "      <th>team2</th>\n",
       "      <th>toss_winner</th>\n",
       "      <th>toss_decision</th>\n",
       "      <th>result</th>\n",
       "      <th>dl_applied</th>\n",
       "      <th>winner</th>\n",
       "      <th>win_by_runs</th>\n",
       "      <th>win_by_wickets</th>\n",
       "      <th>player_of_match</th>\n",
       "      <th>venue</th>\n",
       "      <th>umpire1</th>\n",
       "      <th>umpire2</th>\n",
       "      <th>umpire3</th>\n",
       "    </tr>\n",
       "  </thead>\n",
       "  <tbody>\n",
       "    <tr>\n",
       "      <th>402</th>\n",
       "      <td>403</td>\n",
       "      <td>2014</td>\n",
       "      <td>NaN</td>\n",
       "      <td>2014-04-19</td>\n",
       "      <td>1</td>\n",
       "      <td>3</td>\n",
       "      <td>3</td>\n",
       "      <td>field</td>\n",
       "      <td>normal</td>\n",
       "      <td>0</td>\n",
       "      <td>3</td>\n",
       "      <td>0</td>\n",
       "      <td>7</td>\n",
       "      <td>PA Patel</td>\n",
       "      <td>Dubai International Cricket Stadium</td>\n",
       "      <td>Aleem Dar</td>\n",
       "      <td>AK Chaudhary</td>\n",
       "      <td>NaN</td>\n",
       "    </tr>\n",
       "    <tr>\n",
       "      <th>403</th>\n",
       "      <td>404</td>\n",
       "      <td>2014</td>\n",
       "      <td>NaN</td>\n",
       "      <td>2014-04-19</td>\n",
       "      <td>2</td>\n",
       "      <td>7</td>\n",
       "      <td>2</td>\n",
       "      <td>bat</td>\n",
       "      <td>normal</td>\n",
       "      <td>0</td>\n",
       "      <td>7</td>\n",
       "      <td>0</td>\n",
       "      <td>4</td>\n",
       "      <td>JP Duminy</td>\n",
       "      <td>Dubai International Cricket Stadium</td>\n",
       "      <td>Aleem Dar</td>\n",
       "      <td>VA Kulkarni</td>\n",
       "      <td>NaN</td>\n",
       "    </tr>\n",
       "    <tr>\n",
       "      <th>407</th>\n",
       "      <td>408</td>\n",
       "      <td>2014</td>\n",
       "      <td>NaN</td>\n",
       "      <td>2014-04-23</td>\n",
       "      <td>5</td>\n",
       "      <td>6</td>\n",
       "      <td>6</td>\n",
       "      <td>field</td>\n",
       "      <td>normal</td>\n",
       "      <td>0</td>\n",
       "      <td>5</td>\n",
       "      <td>7</td>\n",
       "      <td>0</td>\n",
       "      <td>RA Jadeja</td>\n",
       "      <td>Dubai International Cricket Stadium</td>\n",
       "      <td>HDPK Dharmasena</td>\n",
       "      <td>RK Illingworth</td>\n",
       "      <td>NaN</td>\n",
       "    </tr>\n",
       "    <tr>\n",
       "      <th>409</th>\n",
       "      <td>410</td>\n",
       "      <td>2014</td>\n",
       "      <td>NaN</td>\n",
       "      <td>2014-04-25</td>\n",
       "      <td>10</td>\n",
       "      <td>7</td>\n",
       "      <td>10</td>\n",
       "      <td>bat</td>\n",
       "      <td>normal</td>\n",
       "      <td>0</td>\n",
       "      <td>10</td>\n",
       "      <td>4</td>\n",
       "      <td>0</td>\n",
       "      <td>AJ Finch</td>\n",
       "      <td>Dubai International Cricket Stadium</td>\n",
       "      <td>M Erasmus</td>\n",
       "      <td>S Ravi</td>\n",
       "      <td>NaN</td>\n",
       "    </tr>\n",
       "    <tr>\n",
       "      <th>410</th>\n",
       "      <td>411</td>\n",
       "      <td>2014</td>\n",
       "      <td>NaN</td>\n",
       "      <td>2014-04-25</td>\n",
       "      <td>1</td>\n",
       "      <td>5</td>\n",
       "      <td>1</td>\n",
       "      <td>bat</td>\n",
       "      <td>normal</td>\n",
       "      <td>0</td>\n",
       "      <td>5</td>\n",
       "      <td>0</td>\n",
       "      <td>7</td>\n",
       "      <td>MM Sharma</td>\n",
       "      <td>Dubai International Cricket Stadium</td>\n",
       "      <td>BF Bowden</td>\n",
       "      <td>M Erasmus</td>\n",
       "      <td>NaN</td>\n",
       "    </tr>\n",
       "    <tr>\n",
       "      <th>415</th>\n",
       "      <td>416</td>\n",
       "      <td>2014</td>\n",
       "      <td>NaN</td>\n",
       "      <td>2014-04-28</td>\n",
       "      <td>3</td>\n",
       "      <td>9</td>\n",
       "      <td>9</td>\n",
       "      <td>field</td>\n",
       "      <td>normal</td>\n",
       "      <td>0</td>\n",
       "      <td>9</td>\n",
       "      <td>0</td>\n",
       "      <td>5</td>\n",
       "      <td>Sandeep Sharma</td>\n",
       "      <td>Dubai International Cricket Stadium</td>\n",
       "      <td>BF Bowden</td>\n",
       "      <td>S Ravi</td>\n",
       "      <td>NaN</td>\n",
       "    </tr>\n",
       "    <tr>\n",
       "      <th>417</th>\n",
       "      <td>418</td>\n",
       "      <td>2014</td>\n",
       "      <td>NaN</td>\n",
       "      <td>2014-04-30</td>\n",
       "      <td>10</td>\n",
       "      <td>1</td>\n",
       "      <td>1</td>\n",
       "      <td>field</td>\n",
       "      <td>normal</td>\n",
       "      <td>0</td>\n",
       "      <td>10</td>\n",
       "      <td>15</td>\n",
       "      <td>0</td>\n",
       "      <td>B Kumar</td>\n",
       "      <td>Dubai International Cricket Stadium</td>\n",
       "      <td>HDPK Dharmasena</td>\n",
       "      <td>M Erasmus</td>\n",
       "      <td>NaN</td>\n",
       "    </tr>\n",
       "  </tbody>\n",
       "</table>\n",
       "</div>"
      ],
      "text/plain": [
       "      id  season city        date  team1  team2  toss_winner toss_decision  \\\n",
       "402  403    2014  NaN  2014-04-19      1      3            3         field   \n",
       "403  404    2014  NaN  2014-04-19      2      7            2           bat   \n",
       "407  408    2014  NaN  2014-04-23      5      6            6         field   \n",
       "409  410    2014  NaN  2014-04-25     10      7           10           bat   \n",
       "410  411    2014  NaN  2014-04-25      1      5            1           bat   \n",
       "415  416    2014  NaN  2014-04-28      3      9            9         field   \n",
       "417  418    2014  NaN  2014-04-30     10      1            1         field   \n",
       "\n",
       "     result  dl_applied  winner  win_by_runs  win_by_wickets player_of_match  \\\n",
       "402  normal           0       3            0               7        PA Patel   \n",
       "403  normal           0       7            0               4       JP Duminy   \n",
       "407  normal           0       5            7               0       RA Jadeja   \n",
       "409  normal           0      10            4               0        AJ Finch   \n",
       "410  normal           0       5            0               7       MM Sharma   \n",
       "415  normal           0       9            0               5  Sandeep Sharma   \n",
       "417  normal           0      10           15               0         B Kumar   \n",
       "\n",
       "                                   venue          umpire1         umpire2  \\\n",
       "402  Dubai International Cricket Stadium        Aleem Dar    AK Chaudhary   \n",
       "403  Dubai International Cricket Stadium        Aleem Dar     VA Kulkarni   \n",
       "407  Dubai International Cricket Stadium  HDPK Dharmasena  RK Illingworth   \n",
       "409  Dubai International Cricket Stadium        M Erasmus          S Ravi   \n",
       "410  Dubai International Cricket Stadium        BF Bowden       M Erasmus   \n",
       "415  Dubai International Cricket Stadium        BF Bowden          S Ravi   \n",
       "417  Dubai International Cricket Stadium  HDPK Dharmasena       M Erasmus   \n",
       "\n",
       "     umpire3  \n",
       "402      NaN  \n",
       "403      NaN  \n",
       "407      NaN  \n",
       "409      NaN  \n",
       "410      NaN  \n",
       "415      NaN  \n",
       "417      NaN  "
      ]
     },
     "execution_count": 8,
     "metadata": {},
     "output_type": "execute_result"
    }
   ],
   "source": [
    "train[pd.isnull(train['city'])]"
   ]
  },
  {
   "cell_type": "code",
   "execution_count": 9,
   "metadata": {},
   "outputs": [
    {
     "data": {
      "text/html": [
       "<div>\n",
       "<style scoped>\n",
       "    .dataframe tbody tr th:only-of-type {\n",
       "        vertical-align: middle;\n",
       "    }\n",
       "\n",
       "    .dataframe tbody tr th {\n",
       "        vertical-align: top;\n",
       "    }\n",
       "\n",
       "    .dataframe thead th {\n",
       "        text-align: right;\n",
       "    }\n",
       "</style>\n",
       "<table border=\"1\" class=\"dataframe\">\n",
       "  <thead>\n",
       "    <tr style=\"text-align: right;\">\n",
       "      <th></th>\n",
       "      <th>id</th>\n",
       "      <th>season</th>\n",
       "      <th>team1</th>\n",
       "      <th>team2</th>\n",
       "      <th>toss_winner</th>\n",
       "      <th>dl_applied</th>\n",
       "      <th>winner</th>\n",
       "      <th>win_by_runs</th>\n",
       "      <th>win_by_wickets</th>\n",
       "      <th>umpire3</th>\n",
       "    </tr>\n",
       "  </thead>\n",
       "  <tbody>\n",
       "    <tr>\n",
       "      <th>count</th>\n",
       "      <td>577.000000</td>\n",
       "      <td>577.000000</td>\n",
       "      <td>577.000000</td>\n",
       "      <td>577.000000</td>\n",
       "      <td>577.000000</td>\n",
       "      <td>577.000000</td>\n",
       "      <td>577.000000</td>\n",
       "      <td>577.000000</td>\n",
       "      <td>577.000000</td>\n",
       "      <td>0.0</td>\n",
       "    </tr>\n",
       "    <tr>\n",
       "      <th>mean</th>\n",
       "      <td>289.000000</td>\n",
       "      <td>2012.029463</td>\n",
       "      <td>5.417678</td>\n",
       "      <td>5.481802</td>\n",
       "      <td>5.365685</td>\n",
       "      <td>0.025997</td>\n",
       "      <td>5.218371</td>\n",
       "      <td>13.715771</td>\n",
       "      <td>3.363951</td>\n",
       "      <td>NaN</td>\n",
       "    </tr>\n",
       "    <tr>\n",
       "      <th>std</th>\n",
       "      <td>166.709828</td>\n",
       "      <td>2.486247</td>\n",
       "      <td>3.281985</td>\n",
       "      <td>3.291946</td>\n",
       "      <td>3.255295</td>\n",
       "      <td>0.159263</td>\n",
       "      <td>3.196267</td>\n",
       "      <td>23.619282</td>\n",
       "      <td>3.416049</td>\n",
       "      <td>NaN</td>\n",
       "    </tr>\n",
       "    <tr>\n",
       "      <th>min</th>\n",
       "      <td>1.000000</td>\n",
       "      <td>2008.000000</td>\n",
       "      <td>1.000000</td>\n",
       "      <td>1.000000</td>\n",
       "      <td>1.000000</td>\n",
       "      <td>0.000000</td>\n",
       "      <td>1.000000</td>\n",
       "      <td>0.000000</td>\n",
       "      <td>0.000000</td>\n",
       "      <td>NaN</td>\n",
       "    </tr>\n",
       "    <tr>\n",
       "      <th>25%</th>\n",
       "      <td>145.000000</td>\n",
       "      <td>2010.000000</td>\n",
       "      <td>3.000000</td>\n",
       "      <td>3.000000</td>\n",
       "      <td>3.000000</td>\n",
       "      <td>0.000000</td>\n",
       "      <td>2.000000</td>\n",
       "      <td>0.000000</td>\n",
       "      <td>0.000000</td>\n",
       "      <td>NaN</td>\n",
       "    </tr>\n",
       "    <tr>\n",
       "      <th>50%</th>\n",
       "      <td>289.000000</td>\n",
       "      <td>2012.000000</td>\n",
       "      <td>5.000000</td>\n",
       "      <td>5.000000</td>\n",
       "      <td>5.000000</td>\n",
       "      <td>0.000000</td>\n",
       "      <td>5.000000</td>\n",
       "      <td>0.000000</td>\n",
       "      <td>3.000000</td>\n",
       "      <td>NaN</td>\n",
       "    </tr>\n",
       "    <tr>\n",
       "      <th>75%</th>\n",
       "      <td>433.000000</td>\n",
       "      <td>2014.000000</td>\n",
       "      <td>8.000000</td>\n",
       "      <td>7.000000</td>\n",
       "      <td>7.000000</td>\n",
       "      <td>0.000000</td>\n",
       "      <td>7.000000</td>\n",
       "      <td>20.000000</td>\n",
       "      <td>6.000000</td>\n",
       "      <td>NaN</td>\n",
       "    </tr>\n",
       "    <tr>\n",
       "      <th>max</th>\n",
       "      <td>577.000000</td>\n",
       "      <td>2016.000000</td>\n",
       "      <td>13.000000</td>\n",
       "      <td>13.000000</td>\n",
       "      <td>13.000000</td>\n",
       "      <td>1.000000</td>\n",
       "      <td>14.000000</td>\n",
       "      <td>144.000000</td>\n",
       "      <td>10.000000</td>\n",
       "      <td>NaN</td>\n",
       "    </tr>\n",
       "  </tbody>\n",
       "</table>\n",
       "</div>"
      ],
      "text/plain": [
       "               id       season       team1       team2  toss_winner  \\\n",
       "count  577.000000   577.000000  577.000000  577.000000   577.000000   \n",
       "mean   289.000000  2012.029463    5.417678    5.481802     5.365685   \n",
       "std    166.709828     2.486247    3.281985    3.291946     3.255295   \n",
       "min      1.000000  2008.000000    1.000000    1.000000     1.000000   \n",
       "25%    145.000000  2010.000000    3.000000    3.000000     3.000000   \n",
       "50%    289.000000  2012.000000    5.000000    5.000000     5.000000   \n",
       "75%    433.000000  2014.000000    8.000000    7.000000     7.000000   \n",
       "max    577.000000  2016.000000   13.000000   13.000000    13.000000   \n",
       "\n",
       "       dl_applied      winner  win_by_runs  win_by_wickets  umpire3  \n",
       "count  577.000000  577.000000   577.000000      577.000000      0.0  \n",
       "mean     0.025997    5.218371    13.715771        3.363951      NaN  \n",
       "std      0.159263    3.196267    23.619282        3.416049      NaN  \n",
       "min      0.000000    1.000000     0.000000        0.000000      NaN  \n",
       "25%      0.000000    2.000000     0.000000        0.000000      NaN  \n",
       "50%      0.000000    5.000000     0.000000        3.000000      NaN  \n",
       "75%      0.000000    7.000000    20.000000        6.000000      NaN  \n",
       "max      1.000000   14.000000   144.000000       10.000000      NaN  "
      ]
     },
     "execution_count": 9,
     "metadata": {},
     "output_type": "execute_result"
    }
   ],
   "source": [
    "train['city'].fillna('Dubai',inplace=True)\n",
    "train.describe()"
   ]
  },
  {
   "cell_type": "code",
   "execution_count": 10,
   "metadata": {},
   "outputs": [
    {
     "data": {
      "text/plain": [
       "<bound method DataFrame.info of       id  season           city        date  team1  team2  toss_winner  \\\n",
       "0      1    2008      Bangalore  2008-04-18      2      3            3   \n",
       "1      2    2008     Chandigarh  2008-04-19      5      9            5   \n",
       "2      3    2008          Delhi  2008-04-19      6      7            6   \n",
       "3      4    2008         Mumbai  2008-04-20      1      3            1   \n",
       "4      5    2008        Kolkata  2008-04-20      4      2            4   \n",
       "5      6    2008         Jaipur  2008-04-21      9      6            9   \n",
       "6      7    2008      Hyderabad  2008-04-22      4      7            4   \n",
       "7      8    2008        Chennai  2008-04-23      5      1            1   \n",
       "8      9    2008      Hyderabad  2008-04-24      4      6            6   \n",
       "9     10    2008     Chandigarh  2008-04-25      9      1            1   \n",
       "10    11    2008      Bangalore  2008-04-26      3      6            6   \n",
       "11    12    2008        Chennai  2008-04-26      2      5            2   \n",
       "12    13    2008         Mumbai  2008-04-27      1      4            4   \n",
       "13    14    2008     Chandigarh  2008-04-27      7      9            7   \n",
       "14    15    2008      Bangalore  2008-04-28      5      3            5   \n",
       "15    16    2008        Kolkata  2008-04-29      2      1            2   \n",
       "16    17    2008          Delhi  2008-04-30      7      3            3   \n",
       "17    18    2008      Hyderabad  2008-05-01      4      9            9   \n",
       "18    19    2008         Jaipur  2008-05-01      6      2            6   \n",
       "19    20    2008        Chennai  2008-05-02      5      7            5   \n",
       "20    21    2008      Hyderabad  2008-05-25      4      3            4   \n",
       "21    22    2008     Chandigarh  2008-05-03      9      2            9   \n",
       "22    23    2008         Mumbai  2008-05-04      1      7            7   \n",
       "23    24    2008         Jaipur  2008-05-04      5      6            5   \n",
       "24    25    2008      Bangalore  2008-05-05      3      9            9   \n",
       "25    26    2008        Chennai  2008-05-06      5      4            4   \n",
       "26    27    2008         Mumbai  2008-05-07      6      1            1   \n",
       "27    28    2008          Delhi  2008-05-08      7      5            5   \n",
       "28    29    2008        Kolkata  2008-05-08      2      3            2   \n",
       "29    30    2008         Jaipur  2008-05-09      4      6            6   \n",
       "..   ...     ...            ...         ...    ...    ...          ...   \n",
       "547  548    2016         Rajkot  2016-05-03      8      7            7   \n",
       "548  549    2016        Kolkata  2016-05-04      2      9            9   \n",
       "549  550    2016          Delhi  2016-05-05      7     11           11   \n",
       "550  551    2016      Hyderabad  2016-05-06      8     10           10   \n",
       "551  552    2016      Bangalore  2016-05-07     11      3            3   \n",
       "552  553    2016     Chandigarh  2016-05-07      9      7            7   \n",
       "553  554    2016  Visakhapatnam  2016-05-08     10      1            1   \n",
       "554  555    2016        Kolkata  2016-05-08      2      8            8   \n",
       "555  556    2016     Chandigarh  2016-05-09      3      9            9   \n",
       "556  557    2016  Visakhapatnam  2016-05-10     10     11           10   \n",
       "557  558    2016      Bangalore  2016-05-11      3      1            1   \n",
       "558  559    2016      Hyderabad  2016-05-12     10      7            7   \n",
       "559  560    2016  Visakhapatnam  2016-05-13      1      9            1   \n",
       "560  561    2016      Bangalore  2016-05-14      3      8            8   \n",
       "561  562    2016        Kolkata  2016-05-14     11      2           11   \n",
       "562  563    2016     Chandigarh  2016-05-15      9     10            9   \n",
       "563  564    2016  Visakhapatnam  2016-05-15      1      7            7   \n",
       "564  565    2016        Kolkata  2016-05-16      2      3            3   \n",
       "565  566    2016  Visakhapatnam  2016-05-17      7     11           11   \n",
       "566  567    2016      Bangalore  2016-05-18      3      9            9   \n",
       "567  568    2016         Kanpur  2016-05-19      2      8            8   \n",
       "568  569    2016         Raipur  2016-05-20     10      7            7   \n",
       "569  570    2016  Visakhapatnam  2016-05-21      9     11            9   \n",
       "570  571    2016         Kanpur  2016-05-21      1      8            8   \n",
       "571  572    2016        Kolkata  2016-05-22      2     10           10   \n",
       "572  573    2016         Raipur  2016-05-22      7      3            3   \n",
       "573  574    2016      Bangalore  2016-05-24      8      3            3   \n",
       "574  575    2016          Delhi  2016-05-25     10      2            2   \n",
       "575  576    2016          Delhi  2016-05-27      8     10           10   \n",
       "576  577    2016      Bangalore  2016-05-29     10      3           10   \n",
       "\n",
       "    toss_decision  result  dl_applied  winner  win_by_runs  win_by_wickets  \\\n",
       "0           field  normal           0       2          140               0   \n",
       "1             bat  normal           0       5           33               0   \n",
       "2             bat  normal           0       7            0               9   \n",
       "3             bat  normal           0       3            0               5   \n",
       "4             bat  normal           0       2            0               5   \n",
       "5             bat  normal           0       6            0               6   \n",
       "6             bat  normal           0       7            0               9   \n",
       "7           field  normal           0       5            6               0   \n",
       "8           field  normal           0       6            0               3   \n",
       "9           field  normal           0       9           66               0   \n",
       "10          field  normal           0       6            0               7   \n",
       "11            bat  normal           0       5            0               9   \n",
       "12          field  normal           0       4            0              10   \n",
       "13            bat  normal           0       9            0               4   \n",
       "14            bat  normal           0       5           13               0   \n",
       "15            bat  normal           0       1            0               7   \n",
       "16          field  normal           0       7           10               0   \n",
       "17          field  normal           0       9            0               7   \n",
       "18            bat  normal           0       6           45               0   \n",
       "19            bat  normal           0       7            0               8   \n",
       "20            bat  normal           0       3            0               5   \n",
       "21            bat  normal           0       9            9               0   \n",
       "22          field  normal           0       1           29               0   \n",
       "23            bat  normal           0       6            0               8   \n",
       "24          field  normal           0       9            0               6   \n",
       "25          field  normal           0       4            0               7   \n",
       "26          field  normal           0       1            0               7   \n",
       "27          field  normal           0       5            0               4   \n",
       "28            bat  normal           0       2            5               0   \n",
       "29          field  normal           0       6            0               8   \n",
       "..            ...     ...         ...     ...          ...             ...   \n",
       "547         field  normal           0       7            0               8   \n",
       "548         field  normal           0       2            7               0   \n",
       "549         field  normal           0      11            0               7   \n",
       "550         field  normal           0      10            0               5   \n",
       "551         field  normal           0       3            0               7   \n",
       "552         field  normal           0       9            9               0   \n",
       "553         field  normal           0      10           85               0   \n",
       "554         field  normal           0       8            0               5   \n",
       "555         field  normal           0       3            1               0   \n",
       "556           bat  normal           0      10            4               0   \n",
       "557         field  normal           0       1            0               6   \n",
       "558         field  normal           0       7            0               7   \n",
       "559           bat  normal           0       9            0               7   \n",
       "560         field  normal           0       3          144               0   \n",
       "561           bat  normal           1       2            0               8   \n",
       "562           bat  normal           0      10            0               7   \n",
       "563         field  normal           0       1           80               0   \n",
       "564         field  normal           0       3            0               9   \n",
       "565         field  normal           1      11           19               0   \n",
       "566         field  normal           1       3           82               0   \n",
       "567         field  normal           0       8            0               6   \n",
       "568         field  normal           0       7            0               6   \n",
       "569           bat  normal           0      11            0               4   \n",
       "570         field  normal           0       8            0               6   \n",
       "571         field  normal           0       2           22               0   \n",
       "572         field  normal           0       3            0               6   \n",
       "573         field  normal           0       3            0               4   \n",
       "574         field  normal           0      10           22               0   \n",
       "575         field  normal           0      10            0               4   \n",
       "576           bat  normal           0      10            8               0   \n",
       "\n",
       "    player_of_match                                              venue  \\\n",
       "0       BB McCullum                              M Chinnaswamy Stadium   \n",
       "1        MEK Hussey         Punjab Cricket Association Stadium, Mohali   \n",
       "2       MF Maharoof                                   Feroz Shah Kotla   \n",
       "3        MV Boucher                                   Wankhede Stadium   \n",
       "4         DJ Hussey                                       Eden Gardens   \n",
       "5         SR Watson                             Sawai Mansingh Stadium   \n",
       "6          V Sehwag          Rajiv Gandhi International Stadium, Uppal   \n",
       "7         ML Hayden                    MA Chidambaram Stadium, Chepauk   \n",
       "8         YK Pathan          Rajiv Gandhi International Stadium, Uppal   \n",
       "9     KC Sangakkara         Punjab Cricket Association Stadium, Mohali   \n",
       "10        SR Watson                              M Chinnaswamy Stadium   \n",
       "11         JDP Oram                    MA Chidambaram Stadium, Chepauk   \n",
       "12     AC Gilchrist                         Dr DY Patil Sports Academy   \n",
       "13        SM Katich         Punjab Cricket Association Stadium, Mohali   \n",
       "14         MS Dhoni                              M Chinnaswamy Stadium   \n",
       "15    ST Jayasuriya                                       Eden Gardens   \n",
       "16       GD McGrath                                   Feroz Shah Kotla   \n",
       "17         SE Marsh          Rajiv Gandhi International Stadium, Uppal   \n",
       "18      SA Asnodkar                             Sawai Mansingh Stadium   \n",
       "19         V Sehwag                    MA Chidambaram Stadium, Chepauk   \n",
       "20    R Vinay Kumar          Rajiv Gandhi International Stadium, Uppal   \n",
       "21        IK Pathan         Punjab Cricket Association Stadium, Mohali   \n",
       "22       SM Pollock                         Dr DY Patil Sports Academy   \n",
       "23    Sohail Tanvir                             Sawai Mansingh Stadium   \n",
       "24      S Sreesanth                              M Chinnaswamy Stadium   \n",
       "25     AC Gilchrist                    MA Chidambaram Stadium, Chepauk   \n",
       "26          A Nehra                         Dr DY Patil Sports Academy   \n",
       "27         MS Dhoni                                   Feroz Shah Kotla   \n",
       "28       SC Ganguly                                       Eden Gardens   \n",
       "29        YK Pathan                             Sawai Mansingh Stadium   \n",
       "..              ...                                                ...   \n",
       "547         RR Pant             Saurashtra Cricket Association Stadium   \n",
       "548      AD Russell                                       Eden Gardens   \n",
       "549       AM Rahane                                   Feroz Shah Kotla   \n",
       "550         B Kumar          Rajiv Gandhi International Stadium, Uppal   \n",
       "551         V Kohli                              M Chinnaswamy Stadium   \n",
       "552      MP Stoinis  Punjab Cricket Association IS Bindra Stadium, ...   \n",
       "553         A Nehra  Dr. Y.S. Rajasekhara Reddy ACA-VDCA Cricket St...   \n",
       "554         P Kumar                                       Eden Gardens   \n",
       "555       SR Watson  Punjab Cricket Association IS Bindra Stadium, ...   \n",
       "556         A Zampa  Dr. Y.S. Rajasekhara Reddy ACA-VDCA Cricket St...   \n",
       "557       KH Pandya                              M Chinnaswamy Stadium   \n",
       "558       CH Morris          Rajiv Gandhi International Stadium, Uppal   \n",
       "559      MP Stoinis  Dr. Y.S. Rajasekhara Reddy ACA-VDCA Cricket St...   \n",
       "560  AB de Villiers                              M Chinnaswamy Stadium   \n",
       "561       YK Pathan                                       Eden Gardens   \n",
       "562         HM Amla  Punjab Cricket Association IS Bindra Stadium, ...   \n",
       "563       KH Pandya  Dr. Y.S. Rajasekhara Reddy ACA-VDCA Cricket St...   \n",
       "564         V Kohli                                       Eden Gardens   \n",
       "565        AB Dinda  Dr. Y.S. Rajasekhara Reddy ACA-VDCA Cricket St...   \n",
       "566         V Kohli                              M Chinnaswamy Stadium   \n",
       "567        DR Smith                                         Green Park   \n",
       "568         KK Nair   Shaheed Veer Narayan Singh International Stadium   \n",
       "569        MS Dhoni  Dr. Y.S. Rajasekhara Reddy ACA-VDCA Cricket St...   \n",
       "570        SK Raina                                         Green Park   \n",
       "571       YK Pathan                                       Eden Gardens   \n",
       "572         V Kohli   Shaheed Veer Narayan Singh International Stadium   \n",
       "573  AB de Villiers                              M Chinnaswamy Stadium   \n",
       "574    MC Henriques                                   Feroz Shah Kotla   \n",
       "575       DA Warner                                   Feroz Shah Kotla   \n",
       "576     BCJ Cutting                              M Chinnaswamy Stadium   \n",
       "\n",
       "                   umpire1          umpire2  umpire3  \n",
       "0                Asad Rauf      RE Koertzen      NaN  \n",
       "1                MR Benson       SL Shastri      NaN  \n",
       "2                Aleem Dar   GA Pratapkumar      NaN  \n",
       "3                 SJ Davis        DJ Harper      NaN  \n",
       "4                BF Bowden      K Hariharan      NaN  \n",
       "5                Aleem Dar        RB Tiffin      NaN  \n",
       "6                IL Howell        AM Saheba      NaN  \n",
       "7                DJ Harper   GA Pratapkumar      NaN  \n",
       "8                Asad Rauf        MR Benson      NaN  \n",
       "9                Aleem Dar        AM Saheba      NaN  \n",
       "10               MR Benson        IL Howell      NaN  \n",
       "11               BF Bowden   AV Jayaprakash      NaN  \n",
       "12               Asad Rauf       SL Shastri      NaN  \n",
       "13             RE Koertzen        I Shivram      NaN  \n",
       "14             BR Doctrove        RB Tiffin      NaN  \n",
       "15               BF Bowden   AV Jayaprakash      NaN  \n",
       "16               Aleem Dar        I Shivram      NaN  \n",
       "17             BR Doctrove        RB Tiffin      NaN  \n",
       "18             RE Koertzen   GA Pratapkumar      NaN  \n",
       "19               BF Bowden      K Hariharan      NaN  \n",
       "20               Asad Rauf      RE Koertzen      NaN  \n",
       "21               DJ Harper        I Shivram      NaN  \n",
       "22               IL Howell      RE Koertzen      NaN  \n",
       "23               Asad Rauf   AV Jayaprakash      NaN  \n",
       "24                SJ Davis      BR Doctrove      NaN  \n",
       "25               MR Benson        RB Tiffin      NaN  \n",
       "26               DJ Harper      RE Koertzen      NaN  \n",
       "27               Aleem Dar        RB Tiffin      NaN  \n",
       "28               Asad Rauf        IL Howell      NaN  \n",
       "29               MR Benson        AM Saheba      NaN  \n",
       "..                     ...              ...      ...  \n",
       "547            CB Gaffaney     BNJ Oxenford      NaN  \n",
       "548           AK Chaudhary  HDPK Dharmasena      NaN  \n",
       "549          C Shamshuddin        RJ Tucker      NaN  \n",
       "550              M Erasmus           S Ravi      NaN  \n",
       "551            CB Gaffaney     BNJ Oxenford      NaN  \n",
       "552        HDPK Dharmasena        CK Nandan      NaN  \n",
       "553                 S Ravi    C Shamshuddin      NaN  \n",
       "554              M Erasmus        RJ Tucker      NaN  \n",
       "555           AK Chaudhary  HDPK Dharmasena      NaN  \n",
       "556            CB Gaffaney        VK Sharma      NaN  \n",
       "557            AY Dandekar    C Shamshuddin      NaN  \n",
       "558             K Bharatan        M Erasmus      NaN  \n",
       "559        HDPK Dharmasena        CK Nandan      NaN  \n",
       "560            AY Dandekar        VK Sharma      NaN  \n",
       "561         A Nand Kishore     BNJ Oxenford      NaN  \n",
       "562  KN Ananthapadmanabhan        M Erasmus      NaN  \n",
       "563            Nitin Menon        CK Nandan      NaN  \n",
       "564            CB Gaffaney   A Nand Kishore      NaN  \n",
       "565            Nitin Menon    C Shamshuddin      NaN  \n",
       "566  KN Ananthapadmanabhan        M Erasmus      NaN  \n",
       "567           AK Chaudhary        CK Nandan      NaN  \n",
       "568         A Nand Kishore     BNJ Oxenford      NaN  \n",
       "569        HDPK Dharmasena      Nitin Menon      NaN  \n",
       "570           AK Chaudhary        CK Nandan      NaN  \n",
       "571  KN Ananthapadmanabhan        M Erasmus      NaN  \n",
       "572         A Nand Kishore     BNJ Oxenford      NaN  \n",
       "573           AK Chaudhary  HDPK Dharmasena      NaN  \n",
       "574              M Erasmus    C Shamshuddin      NaN  \n",
       "575              M Erasmus        CK Nandan      NaN  \n",
       "576        HDPK Dharmasena     BNJ Oxenford      NaN  \n",
       "\n",
       "[577 rows x 18 columns]>"
      ]
     },
     "execution_count": 10,
     "metadata": {},
     "output_type": "execute_result"
    }
   ],
   "source": [
    "train.info"
   ]
  },
  {
   "cell_type": "code",
   "execution_count": 11,
   "metadata": {},
   "outputs": [
    {
     "name": "stdout",
     "output_type": "stream",
     "text": [
      "1\n",
      "MI\n"
     ]
    }
   ],
   "source": [
    "dict=encode['winner']\n",
    "print(dict['MI'])\n",
    "print(list(dict.keys())[list(dict.values()).index(1)])"
   ]
  },
  {
   "cell_type": "code",
   "execution_count": 12,
   "metadata": {},
   "outputs": [
    {
     "data": {
      "text/html": [
       "<div>\n",
       "<style scoped>\n",
       "    .dataframe tbody tr th:only-of-type {\n",
       "        vertical-align: middle;\n",
       "    }\n",
       "\n",
       "    .dataframe tbody tr th {\n",
       "        vertical-align: top;\n",
       "    }\n",
       "\n",
       "    .dataframe thead th {\n",
       "        text-align: right;\n",
       "    }\n",
       "</style>\n",
       "<table border=\"1\" class=\"dataframe\">\n",
       "  <thead>\n",
       "    <tr style=\"text-align: right;\">\n",
       "      <th></th>\n",
       "      <th>team1</th>\n",
       "      <th>team2</th>\n",
       "      <th>city</th>\n",
       "      <th>toss_decision</th>\n",
       "      <th>toss_winner</th>\n",
       "      <th>venue</th>\n",
       "      <th>winner</th>\n",
       "    </tr>\n",
       "  </thead>\n",
       "  <tbody>\n",
       "    <tr>\n",
       "      <th>0</th>\n",
       "      <td>2</td>\n",
       "      <td>3</td>\n",
       "      <td>Bangalore</td>\n",
       "      <td>field</td>\n",
       "      <td>3</td>\n",
       "      <td>M Chinnaswamy Stadium</td>\n",
       "      <td>2</td>\n",
       "    </tr>\n",
       "    <tr>\n",
       "      <th>1</th>\n",
       "      <td>5</td>\n",
       "      <td>9</td>\n",
       "      <td>Chandigarh</td>\n",
       "      <td>bat</td>\n",
       "      <td>5</td>\n",
       "      <td>Punjab Cricket Association Stadium, Mohali</td>\n",
       "      <td>5</td>\n",
       "    </tr>\n",
       "    <tr>\n",
       "      <th>2</th>\n",
       "      <td>6</td>\n",
       "      <td>7</td>\n",
       "      <td>Delhi</td>\n",
       "      <td>bat</td>\n",
       "      <td>6</td>\n",
       "      <td>Feroz Shah Kotla</td>\n",
       "      <td>7</td>\n",
       "    </tr>\n",
       "    <tr>\n",
       "      <th>3</th>\n",
       "      <td>1</td>\n",
       "      <td>3</td>\n",
       "      <td>Mumbai</td>\n",
       "      <td>bat</td>\n",
       "      <td>1</td>\n",
       "      <td>Wankhede Stadium</td>\n",
       "      <td>3</td>\n",
       "    </tr>\n",
       "    <tr>\n",
       "      <th>4</th>\n",
       "      <td>4</td>\n",
       "      <td>2</td>\n",
       "      <td>Kolkata</td>\n",
       "      <td>bat</td>\n",
       "      <td>4</td>\n",
       "      <td>Eden Gardens</td>\n",
       "      <td>2</td>\n",
       "    </tr>\n",
       "  </tbody>\n",
       "</table>\n",
       "</div>"
      ],
      "text/plain": [
       "   team1  team2        city toss_decision  toss_winner  \\\n",
       "0      2      3   Bangalore         field            3   \n",
       "1      5      9  Chandigarh           bat            5   \n",
       "2      6      7       Delhi           bat            6   \n",
       "3      1      3      Mumbai           bat            1   \n",
       "4      4      2     Kolkata           bat            4   \n",
       "\n",
       "                                        venue  winner  \n",
       "0                       M Chinnaswamy Stadium       2  \n",
       "1  Punjab Cricket Association Stadium, Mohali       5  \n",
       "2                            Feroz Shah Kotla       7  \n",
       "3                            Wankhede Stadium       3  \n",
       "4                                Eden Gardens       2  "
      ]
     },
     "execution_count": 12,
     "metadata": {},
     "output_type": "execute_result"
    }
   ],
   "source": [
    "train = train[['team1','team2','city','toss_decision','toss_winner','venue','winner']]\n",
    "train.head()"
   ]
  },
  {
   "cell_type": "code",
   "execution_count": 13,
   "metadata": {},
   "outputs": [
    {
     "data": {
      "text/html": [
       "<div>\n",
       "<style scoped>\n",
       "    .dataframe tbody tr th:only-of-type {\n",
       "        vertical-align: middle;\n",
       "    }\n",
       "\n",
       "    .dataframe tbody tr th {\n",
       "        vertical-align: top;\n",
       "    }\n",
       "\n",
       "    .dataframe thead th {\n",
       "        text-align: right;\n",
       "    }\n",
       "</style>\n",
       "<table border=\"1\" class=\"dataframe\">\n",
       "  <thead>\n",
       "    <tr style=\"text-align: right;\">\n",
       "      <th></th>\n",
       "      <th>team1</th>\n",
       "      <th>team2</th>\n",
       "      <th>toss_winner</th>\n",
       "      <th>winner</th>\n",
       "    </tr>\n",
       "  </thead>\n",
       "  <tbody>\n",
       "    <tr>\n",
       "      <th>count</th>\n",
       "      <td>577.000000</td>\n",
       "      <td>577.000000</td>\n",
       "      <td>577.000000</td>\n",
       "      <td>577.000000</td>\n",
       "    </tr>\n",
       "    <tr>\n",
       "      <th>mean</th>\n",
       "      <td>5.417678</td>\n",
       "      <td>5.481802</td>\n",
       "      <td>5.365685</td>\n",
       "      <td>5.218371</td>\n",
       "    </tr>\n",
       "    <tr>\n",
       "      <th>std</th>\n",
       "      <td>3.281985</td>\n",
       "      <td>3.291946</td>\n",
       "      <td>3.255295</td>\n",
       "      <td>3.196267</td>\n",
       "    </tr>\n",
       "    <tr>\n",
       "      <th>min</th>\n",
       "      <td>1.000000</td>\n",
       "      <td>1.000000</td>\n",
       "      <td>1.000000</td>\n",
       "      <td>1.000000</td>\n",
       "    </tr>\n",
       "    <tr>\n",
       "      <th>25%</th>\n",
       "      <td>3.000000</td>\n",
       "      <td>3.000000</td>\n",
       "      <td>3.000000</td>\n",
       "      <td>2.000000</td>\n",
       "    </tr>\n",
       "    <tr>\n",
       "      <th>50%</th>\n",
       "      <td>5.000000</td>\n",
       "      <td>5.000000</td>\n",
       "      <td>5.000000</td>\n",
       "      <td>5.000000</td>\n",
       "    </tr>\n",
       "    <tr>\n",
       "      <th>75%</th>\n",
       "      <td>8.000000</td>\n",
       "      <td>7.000000</td>\n",
       "      <td>7.000000</td>\n",
       "      <td>7.000000</td>\n",
       "    </tr>\n",
       "    <tr>\n",
       "      <th>max</th>\n",
       "      <td>13.000000</td>\n",
       "      <td>13.000000</td>\n",
       "      <td>13.000000</td>\n",
       "      <td>14.000000</td>\n",
       "    </tr>\n",
       "  </tbody>\n",
       "</table>\n",
       "</div>"
      ],
      "text/plain": [
       "            team1       team2  toss_winner      winner\n",
       "count  577.000000  577.000000   577.000000  577.000000\n",
       "mean     5.417678    5.481802     5.365685    5.218371\n",
       "std      3.281985    3.291946     3.255295    3.196267\n",
       "min      1.000000    1.000000     1.000000    1.000000\n",
       "25%      3.000000    3.000000     3.000000    2.000000\n",
       "50%      5.000000    5.000000     5.000000    5.000000\n",
       "75%      8.000000    7.000000     7.000000    7.000000\n",
       "max     13.000000   13.000000    13.000000   14.000000"
      ]
     },
     "execution_count": 13,
     "metadata": {},
     "output_type": "execute_result"
    }
   ],
   "source": [
    "df = pd.DataFrame(train)\n",
    "df.describe()"
   ]
  },
  {
   "cell_type": "code",
   "execution_count": 14,
   "metadata": {},
   "outputs": [
    {
     "data": {
      "text/plain": [
       "1     74\n",
       "2     69\n",
       "5     66\n",
       "9     64\n",
       "7     64\n",
       "6     63\n",
       "3     61\n",
       "4     43\n",
       "10    30\n",
       "13    20\n",
       "12     8\n",
       "8      8\n",
       "11     7\n",
       "Name: toss_winner, dtype: int64"
      ]
     },
     "execution_count": 14,
     "metadata": {},
     "output_type": "execute_result"
    }
   ],
   "source": [
    "train['toss_winner'].value_counts()"
   ]
  },
  {
   "cell_type": "code",
   "execution_count": 15,
   "metadata": {},
   "outputs": [
    {
     "data": {
      "text/plain": [
       "1     74\n",
       "2     69\n",
       "5     66\n",
       "9     64\n",
       "7     64\n",
       "6     63\n",
       "3     61\n",
       "4     43\n",
       "10    30\n",
       "13    20\n",
       "12     8\n",
       "8      8\n",
       "11     7\n",
       "Name: toss_winner, dtype: int64"
      ]
     },
     "execution_count": 15,
     "metadata": {},
     "output_type": "execute_result"
    }
   ],
   "source": [
    "train['toss_winner'].value_counts()"
   ]
  },
  {
   "cell_type": "code",
   "execution_count": 16,
   "metadata": {},
   "outputs": [
    {
     "name": "stdout",
     "output_type": "stream",
     "text": [
      "toss Winner\n",
      "MI -> 74\n",
      "KKR -> 69\n",
      "CSK -> 66\n",
      "KXIP -> 64\n",
      "DD -> 64\n",
      "RR -> 63\n",
      "RCB -> 61\n",
      "DC -> 43\n",
      "SRH -> 30\n",
      "PW -> 20\n",
      "KTK -> 8\n",
      "GL -> 8\n",
      "RPS -> 7\n",
      "No of match winners by each team\n",
      "MI -> 80\n",
      "CSK -> 79\n",
      "RCB -> 70\n",
      "KKR -> 68\n",
      "KXIP -> 63\n",
      "RR -> 63\n",
      "DD -> 56\n",
      "SRH -> 34\n",
      "DC -> 29\n",
      "PW -> 12\n",
      "GL -> 9\n",
      "KTK -> 6\n",
      "RPS -> 5\n",
      "Draw -> 3\n"
     ]
    }
   ],
   "source": [
    "temp1=df['toss_winner'].value_counts(sort=True)\n",
    "temp2=df['winner'].value_counts(sort=True)\n",
    "print(\"toss Winner\")\n",
    "for idx, val in temp1.iteritems():\n",
    "    z=('{} -> {}'.format(list(dict.keys())[list(dict.values()).index(idx)],val))\n",
    "    print(z)\n",
    "print('No of match winners by each team')\n",
    "for idx, val in temp2.iteritems():\n",
    "    k=('{} -> {}'.format(list(dict.keys())[list(dict.values()).index(idx)],val))\n",
    "    print(k)"
   ]
  },
  {
   "cell_type": "code",
   "execution_count": 17,
   "metadata": {},
   "outputs": [
    {
     "data": {
      "text/plain": [
       "[<matplotlib.lines.Line2D at 0xa29a1f0>]"
      ]
     },
     "execution_count": 17,
     "metadata": {},
     "output_type": "execute_result"
    },
    {
     "data": {
      "image/png": "[encoded data removed]",
      "text/plain": [
       "<matplotlib.figure.Figure at 0xa2962f0>"
      ]
     },
     "metadata": {},
     "output_type": "display_data"
    }
   ],
   "source": [
    "plt.plot([z],[k])"
   ]
  },
  {
   "cell_type": "code",
   "execution_count": 18,
   "metadata": {},
   "outputs": [
    {
     "data": {
      "text/plain": [
       "<matplotlib.axes._subplots.AxesSubplot at 0xb32a970>"
      ]
     },
     "execution_count": 18,
     "metadata": {},
     "output_type": "execute_result"
    },
    {
     "data": {
      "image/png": "[encoded data removed]",
      "text/plain": [
       "<matplotlib.figure.Figure at 0xb32aed0>"
      ]
     },
     "metadata": {},
     "output_type": "display_data"
    }
   ],
   "source": [
    "df['winner'].hist(bins=40)"
   ]
  },
  {
   "cell_type": "code",
   "execution_count": 19,
   "metadata": {},
   "outputs": [
    {
     "data": {
      "text/plain": [
       "<matplotlib.axes._subplots.AxesSubplot at 0xb3b0890>"
      ]
     },
     "execution_count": 19,
     "metadata": {},
     "output_type": "execute_result"
    },
    {
     "data": {
      "image/png": "[encoded data removed]",
      "text/plain": [
       "<matplotlib.figure.Figure at 0xb3b0bd0>"
      ]
     },
     "metadata": {},
     "output_type": "display_data"
    }
   ],
   "source": [
    "df['toss_winner'].hist(bins=50)"
   ]
  },
  {
   "cell_type": "code",
   "execution_count": 20,
   "metadata": {},
   "outputs": [
    {
     "data": {
      "text/plain": [
       "Text(0.5,1,'Probability of match winning by winning toss')"
      ]
     },
     "execution_count": 20,
     "metadata": {},
     "output_type": "execute_result"
    },
    {
     "data": {
      "image/png": "[encoded data removed]",
      "text/plain": [
       "<matplotlib.figure.Figure at 0xb43d7b0>"
      ]
     },
     "metadata": {},
     "output_type": "display_data"
    }
   ],
   "source": [
    "fig = plt.figure(figsize=(10,8))\n",
    "ax1 = fig.add_subplot(121)\n",
    "ax1.set_xlabel('toss_winner')\n",
    "ax1.set_ylabel('Count of toss winners')\n",
    "ax1.set_title(\"toss winners\")\n",
    "temp1.plot(kind='bar')\n",
    "\n",
    "ax2 = fig.add_subplot(122)\n",
    "temp2.plot(kind = 'bar')\n",
    "ax2.set_xlabel('winner')\n",
    "ax2.set_ylabel('Probability of winning match by winning toss')\n",
    "ax2.set_title(\"Probability of match winning by winning toss\")"
   ]
  },
  {
   "cell_type": "code",
   "execution_count": 21,
   "metadata": {},
   "outputs": [
    {
     "data": {
      "text/plain": [
       "1     74\n",
       "2     69\n",
       "5     66\n",
       "9     64\n",
       "7     64\n",
       "6     63\n",
       "3     61\n",
       "4     43\n",
       "10    30\n",
       "13    20\n",
       "12     8\n",
       "8      8\n",
       "11     7\n",
       "Name: toss_winner, dtype: int64"
      ]
     },
     "execution_count": 21,
     "metadata": {},
     "output_type": "execute_result"
    }
   ],
   "source": [
    "train['toss_winner'].value_counts()"
   ]
  },
  {
   "cell_type": "code",
   "execution_count": 22,
   "metadata": {},
   "outputs": [
    {
     "name": "stdout",
     "output_type": "stream",
     "text": [
      "toss_winner   1   2   3   4   5   6   7  8   9  10  11  12  13  All\n",
      "winner                                                             \n",
      "1            41   4   3   4   4   6   7  0   5   3   0   0   3   80\n",
      "2             2  38   4   3   4   3   3  0   6   4   1   0   0   68\n",
      "3             5   1  33   3   4   2   5  1   6   3   1   2   4   70\n",
      "4             0   1   4  19   1   1   0  0   2   0   0   1   0   29\n",
      "5             5   6   3   2  42   8   4  0   3   3   0   0   3   79\n",
      "6             2   4   2   3   2  34   6  0   6   2   0   0   2   63\n",
      "7             6   4   3   5   3   2  28  0   3   0   0   0   2   56\n",
      "8             0   0   1   0   0   0   1  6   0   0   1   0   0    9\n",
      "9             8   5   4   3   4   3   6  1  26   1   1   0   1   63\n",
      "10            3   3   3   0   1   2   2  0   4  14   0   0   2   34\n",
      "11            1   0   0   0   0   0   0  0   1   0   3   0   0    5\n",
      "12            0   2   0   0   0   0   0  0   0   0   0   4   0    6\n",
      "13            1   1   0   1   1   1   1  0   2   0   0   1   3   12\n",
      "14            0   0   1   0   0   1   1  0   0   0   0   0   0    3\n",
      "All          74  69  61  43  66  63  64  8  64  30   7   8  20  577\n"
     ]
    }
   ],
   "source": [
    "ct=pd.crosstab(train['winner'],train['toss_winner'],margins=True)\n",
    "print(ct)"
   ]
  },
  {
   "cell_type": "code",
   "execution_count": 23,
   "metadata": {},
   "outputs": [
    {
     "data": {
      "text/plain": [
       "team1            0\n",
       "team2            0\n",
       "city             0\n",
       "toss_decision    0\n",
       "toss_winner      0\n",
       "venue            0\n",
       "winner           0\n",
       "dtype: int64"
      ]
     },
     "execution_count": 23,
     "metadata": {},
     "output_type": "execute_result"
    }
   ],
   "source": [
    "df.apply(lambda x: sum(x.isnull()),axis=0) "
   ]
  },
  {
   "cell_type": "code",
   "execution_count": 24,
   "metadata": {},
   "outputs": [
    {
     "data": {
      "text/html": [
       "<div>\n",
       "<style scoped>\n",
       "    .dataframe tbody tr th:only-of-type {\n",
       "        vertical-align: middle;\n",
       "    }\n",
       "\n",
       "    .dataframe tbody tr th {\n",
       "        vertical-align: top;\n",
       "    }\n",
       "\n",
       "    .dataframe thead th {\n",
       "        text-align: right;\n",
       "    }\n",
       "</style>\n",
       "<table border=\"1\" class=\"dataframe\">\n",
       "  <thead>\n",
       "    <tr style=\"text-align: right;\">\n",
       "      <th></th>\n",
       "      <th>team1</th>\n",
       "      <th>team2</th>\n",
       "      <th>city</th>\n",
       "      <th>toss_decision</th>\n",
       "      <th>toss_winner</th>\n",
       "      <th>venue</th>\n",
       "      <th>winner</th>\n",
       "    </tr>\n",
       "  </thead>\n",
       "  <tbody>\n",
       "  </tbody>\n",
       "</table>\n",
       "</div>"
      ],
      "text/plain": [
       "Empty DataFrame\n",
       "Columns: [team1, team2, city, toss_decision, toss_winner, venue, winner]\n",
       "Index: []"
      ]
     },
     "execution_count": 24,
     "metadata": {},
     "output_type": "execute_result"
    }
   ],
   "source": [
    "df[pd.isnull(df['city'])]"
   ]
  },
  {
   "cell_type": "code",
   "execution_count": 25,
   "metadata": {},
   "outputs": [
    {
     "name": "stdout",
     "output_type": "stream",
     "text": [
      "Now PREDICTIVE model\n"
     ]
    }
   ],
   "source": [
    "print('Now PREDICTIVE model')"
   ]
  },
  {
   "cell_type": "code",
   "execution_count": 26,
   "metadata": {},
   "outputs": [
    {
     "data": {
      "text/plain": [
       "team1            int64\n",
       "team2            int64\n",
       "city             int32\n",
       "toss_decision    int32\n",
       "toss_winner      int64\n",
       "venue            int32\n",
       "winner           int64\n",
       "dtype: object"
      ]
     },
     "execution_count": 26,
     "metadata": {},
     "output_type": "execute_result"
    }
   ],
   "source": [
    "from sklearn.preprocessing import LabelEncoder\n",
    "var_mod = ['city','toss_decision','venue']\n",
    "le = LabelEncoder()\n",
    "for i in var_mod:\n",
    "    df[i] = le.fit_transform(df[i])\n",
    "df.dtypes"
   ]
  },
  {
   "cell_type": "code",
   "execution_count": 27,
   "metadata": {},
   "outputs": [
    {
     "name": "stderr",
     "output_type": "stream",
     "text": [
      "c:\\users\\akash\\appdata\\local\\programs\\python\\python36-32\\lib\\site-packages\\sklearn\\cross_validation.py:41: DeprecationWarning: This module was deprecated in version 0.18 in favor of the model_selection module into which all the refactored classes and functions are moved. Also note that the interface of the new CV iterators are different from that of this module. This module will be removed in 0.20.\n",
      "  \"This module will be removed in 0.20.\", DeprecationWarning)\n"
     ]
    }
   ],
   "source": [
    "from sklearn.linear_model import LogisticRegression\n",
    "from sklearn.cross_validation import KFold   #For K-fold cross validation\n",
    "from sklearn.ensemble import RandomForestClassifier\n",
    "from sklearn.tree import DecisionTreeClassifier, export_graphviz\n",
    "from sklearn import metrics\n",
    "\n",
    "def classification_model(model, data, predictors, outcome):\n",
    "    model.fit(data[predictors],data[outcome])\n",
    "  \n",
    "    predictions = model.predict(data[predictors])\n",
    "  \n",
    "    accuracy = metrics.accuracy_score(predictions,data[outcome])\n",
    "    print('Accuracy : %s' % '{0:.3%}'.format(accuracy))\n",
    "\n",
    "    kf = KFold(data.shape[0], n_folds=5)\n",
    "    error = []\n",
    "    for train, test in kf:\n",
    "        train_predictors = (data[predictors].iloc[train,:])\n",
    "    \n",
    "    train_target = data[outcome].iloc[train]\n",
    "    \n",
    "    model.fit(train_predictors, train_target)\n",
    "    \n",
    "    error.append(model.score(data[predictors].iloc[test,:], data[outcome].iloc[test]))\n",
    " \n",
    "    print('Cross-Validation Score : %s' % '{0:.3%}'.format(np.mean(error)))\n",
    "\n",
    "    model.fit(data[predictors],data[outcome])"
   ]
  },
  {
   "cell_type": "code",
   "execution_count": 28,
   "metadata": {},
   "outputs": [
    {
     "name": "stdout",
     "output_type": "stream",
     "text": [
      "Accuracy : 22.184%\n",
      "Cross-Validation Score : 19.130%\n"
     ]
    },
    {
     "name": "stderr",
     "output_type": "stream",
     "text": [
      "c:\\users\\akash\\appdata\\local\\programs\\python\\python36-32\\lib\\site-packages\\sklearn\\utils\\validation.py:578: DataConversionWarning: A column-vector y was passed when a 1d array was expected. Please change the shape of y to (n_samples, ), for example using ravel().\n",
      "  y = column_or_1d(y, warn=True)\n"
     ]
    }
   ],
   "source": [
    "from sklearn.ensemble import RandomForestRegressor\n",
    "outcome_var=['winner']\n",
    "predictor_var = ['team1','team2','toss_winner']\n",
    "model = LogisticRegression()\n",
    "classification_model(model, df,predictor_var,outcome_var)"
   ]
  },
  {
   "cell_type": "code",
   "execution_count": 29,
   "metadata": {},
   "outputs": [
    {
     "data": {
      "text/html": [
       "<div>\n",
       "<style scoped>\n",
       "    .dataframe tbody tr th:only-of-type {\n",
       "        vertical-align: middle;\n",
       "    }\n",
       "\n",
       "    .dataframe tbody tr th {\n",
       "        vertical-align: top;\n",
       "    }\n",
       "\n",
       "    .dataframe thead th {\n",
       "        text-align: right;\n",
       "    }\n",
       "</style>\n",
       "<table border=\"1\" class=\"dataframe\">\n",
       "  <thead>\n",
       "    <tr style=\"text-align: right;\">\n",
       "      <th></th>\n",
       "      <th>team1</th>\n",
       "      <th>team2</th>\n",
       "      <th>city</th>\n",
       "      <th>toss_decision</th>\n",
       "      <th>toss_winner</th>\n",
       "      <th>venue</th>\n",
       "      <th>winner</th>\n",
       "    </tr>\n",
       "  </thead>\n",
       "  <tbody>\n",
       "    <tr>\n",
       "      <th>0</th>\n",
       "      <td>2</td>\n",
       "      <td>3</td>\n",
       "      <td>2</td>\n",
       "      <td>1</td>\n",
       "      <td>3</td>\n",
       "      <td>14</td>\n",
       "      <td>2</td>\n",
       "    </tr>\n",
       "    <tr>\n",
       "      <th>1</th>\n",
       "      <td>5</td>\n",
       "      <td>9</td>\n",
       "      <td>6</td>\n",
       "      <td>0</td>\n",
       "      <td>5</td>\n",
       "      <td>22</td>\n",
       "      <td>5</td>\n",
       "    </tr>\n",
       "    <tr>\n",
       "      <th>2</th>\n",
       "      <td>6</td>\n",
       "      <td>7</td>\n",
       "      <td>9</td>\n",
       "      <td>0</td>\n",
       "      <td>6</td>\n",
       "      <td>8</td>\n",
       "      <td>7</td>\n",
       "    </tr>\n",
       "  </tbody>\n",
       "</table>\n",
       "</div>"
      ],
      "text/plain": [
       "   team1  team2  city  toss_decision  toss_winner  venue  winner\n",
       "0      2      3     2              1            3     14       2\n",
       "1      5      9     6              0            5     22       5\n",
       "2      6      7     9              0            6      8       7"
      ]
     },
     "execution_count": 29,
     "metadata": {},
     "output_type": "execute_result"
    }
   ],
   "source": [
    "df.head(3)"
   ]
  },
  {
   "cell_type": "code",
   "execution_count": 30,
   "metadata": {},
   "outputs": [
    {
     "name": "stderr",
     "output_type": "stream",
     "text": [
      "c:\\users\\akash\\appdata\\local\\programs\\python\\python36-32\\lib\\site-packages\\ipykernel_launcher.py:8: DataConversionWarning: A column-vector y was passed when a 1d array was expected. Please change the shape of y to (n_samples,), for example using ravel().\n",
      "  \n"
     ]
    },
    {
     "name": "stdout",
     "output_type": "stream",
     "text": [
      "Accuracy : 89.601%\n"
     ]
    },
    {
     "name": "stderr",
     "output_type": "stream",
     "text": [
      "c:\\users\\akash\\appdata\\local\\programs\\python\\python36-32\\lib\\site-packages\\ipykernel_launcher.py:22: DataConversionWarning: A column-vector y was passed when a 1d array was expected. Please change the shape of y to (n_samples,), for example using ravel().\n"
     ]
    },
    {
     "name": "stdout",
     "output_type": "stream",
     "text": [
      "Cross-Validation Score : 52.174%\n"
     ]
    },
    {
     "name": "stderr",
     "output_type": "stream",
     "text": [
      "c:\\users\\akash\\appdata\\local\\programs\\python\\python36-32\\lib\\site-packages\\ipykernel_launcher.py:28: DataConversionWarning: A column-vector y was passed when a 1d array was expected. Please change the shape of y to (n_samples,), for example using ravel().\n"
     ]
    }
   ],
   "source": [
    "model = RandomForestClassifier(n_estimators=100)\n",
    "outcome_var = ['winner']\n",
    "predictor_var = ['team1', 'team2', 'venue', 'toss_winner','city','toss_decision']\n",
    "classification_model(model, df,predictor_var,outcome_var)"
   ]
  },
  {
   "cell_type": "code",
   "execution_count": 31,
   "metadata": {},
   "outputs": [
    {
     "name": "stdout",
     "output_type": "stream",
     "text": [
      "KKR\n"
     ]
    }
   ],
   "source": [
    "team1='RCB'\n",
    "team2='KKR'\n",
    "toss_winner='RCB'\n",
    "input=[dict[team1],dict[team2],'14',dict[toss_winner],'2','1']\n",
    "input = np.array(input).reshape((1, -1))\n",
    "output=model.predict(input)\n",
    "print(list(dict.keys())[list(dict.values()).index(output)])"
   ]
  },
  {
   "cell_type": "code",
   "execution_count": 32,
   "metadata": {},
   "outputs": [
    {
     "name": "stdout",
     "output_type": "stream",
     "text": [
      "DD\n"
     ]
    }
   ],
   "source": [
    "team1='DC'\n",
    "team2='DD'\n",
    "toss_winner='DC'\n",
    "input=[dict[team1],dict[team2],'23',dict[toss_winner],'14','0']\n",
    "input = np.array(input).reshape((1, -1))\n",
    "output=model.predict(input)\n",
    "print(list(dict.keys())[list(dict.values()).index(output)])"
   ]
  },
  {
   "cell_type": "code",
   "execution_count": 33,
   "metadata": {},
   "outputs": [
    {
     "name": "stdout",
     "output_type": "stream",
     "text": [
      "team2            0.252331\n",
      "team1            0.218367\n",
      "venue            0.170305\n",
      "toss_winner      0.162235\n",
      "city             0.159935\n",
      "toss_decision    0.036827\n",
      "dtype: float64\n"
     ]
    }
   ],
   "source": [
    "imp_input = pd.Series(model.feature_importances_, index=predictor_var).sort_values(ascending=False)\n",
    "print(imp_input)"
   ]
  },
  {
   "cell_type": "code",
   "execution_count": 34,
   "metadata": {},
   "outputs": [
    {
     "data": {
      "image/png": "[encoded data removed]",
      "text/plain": [
       "<matplotlib.figure.Figure at 0xfc594f0>"
      ]
     },
     "metadata": {},
     "output_type": "display_data"
    }
   ],
   "source": [
    "import matplotlib.pyplot as mlt\n",
    "mlt.style.use('fivethirtyeight')\n",
    "df_fil=df[df['toss_winner']==df['winner']]\n",
    "slices=[len(df_fil),(577-len(df_fil))]\n",
    "mlt.pie(slices,labels=['Toss & win','Toss & lose'],startangle=90,shadow=True,explode=(0,0),autopct='%1.1f%%',colors=['r','g'])\n",
    "fig = mlt.gcf()\n",
    "fig.set_size_inches(6,6)\n",
    "mlt.show()"
   ]
  },
  {
   "cell_type": "code",
   "execution_count": 35,
   "metadata": {},
   "outputs": [
    {
     "data": {
      "image/png": "[encoded data removed]",
      "text/plain": [
       "<matplotlib.figure.Figure at 0xfcaf1b0>"
      ]
     },
     "metadata": {},
     "output_type": "display_data"
    }
   ],
   "source": [
    "import seaborn as sns\n",
    "team1=dict['CSK']\n",
    "team2=dict['RCB']\n",
    "mtemp=train[((train['team1']==team1)|(train['team2']==team1))&((train['team1']==team2)|(train['team2']==team2))]\n",
    "sns.countplot(x='venue', hue='winner',data=mtemp,palette='Set3')\n",
    "mlt.xticks(rotation='vertical')\n",
    "leg = mlt.legend( loc = 'upper right')\n",
    "fig=mlt.gcf()\n",
    "fig.set_size_inches(10,6)\n",
    "mlt.show()"
   ]
  },
  {
   "cell_type": "code",
   "execution_count": 57,
   "metadata": {},
   "outputs": [
    {
     "data": {
      "image/png": "[encoded data removed]",
      "text/plain": [
       "<matplotlib.figure.Figure at 0x3740ed0>"
      ]
     },
     "metadata": {},
     "output_type": "display_data"
    }
   ],
   "source": [
    "from matplotlib import style\n",
    "style.use('fivethirtyeight')\n",
    "df['city'].plot()\n",
    "plt.legend()\n",
    "plt.show()"
   ]
  },
  {
   "cell_type": "code",
   "execution_count": 63,
   "metadata": {},
   "outputs": [
    {
     "name": "stdout",
     "output_type": "stream",
     "text": [
      "        a            b     c        d\n",
      "0  winner  toss_winner   NaN      NaN\n",
      "0     NaN          NaN  city  umpire1\n"
     ]
    }
   ],
   "source": [
    "df1=pd.DataFrame({'a':['winner'],'b':['toss_winner']})\n",
    "df2=pd.DataFrame({'c':['city'],'d':['umpire1']})\n",
    "concat=pd.concat([df1,df2])\n",
    "print(concat)"
   ]
  },
  {
   "cell_type": "code",
   "execution_count": null,
   "metadata": {},
   "outputs": [],
   "source": []
  }
 ],
 "metadata": {
  "kernelspec": {
   "display_name": "Python 3",
   "language": "python",
   "name": "python3"
  },
  "language_info": {
   "codemirror_mode": {
    "name": "ipython",
    "version": 3
   },
   "file_extension": ".py",
   "mimetype": "text/x-python",
   "name": "python",
   "nbconvert_exporter": "python",
   "pygments_lexer": "ipython3",
   "version": "3.6.3"
  }
 },
 "nbformat": 4,
 "nbformat_minor": 2
}
